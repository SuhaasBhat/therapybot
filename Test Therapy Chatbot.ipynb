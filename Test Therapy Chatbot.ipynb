{
 "cells": [
  {
   "cell_type": "markdown",
   "metadata": {},
   "source": [
    "# Testing the Models"
   ]
  },
  {
   "cell_type": "code",
   "execution_count": 1,
   "metadata": {
    "scrolled": true
   },
   "outputs": [
    {
     "name": "stdout",
     "output_type": "stream",
     "text": [
      "Sun May  8 23:43:11 2022       \r\n",
      "+-----------------------------------------------------------------------------+\r\n",
      "| NVIDIA-SMI 510.47.03    Driver Version: 510.47.03    CUDA Version: 11.6     |\r\n",
      "|-------------------------------+----------------------+----------------------+\r\n",
      "| GPU  Name        Persistence-M| Bus-Id        Disp.A | Volatile Uncorr. ECC |\r\n",
      "| Fan  Temp  Perf  Pwr:Usage/Cap|         Memory-Usage | GPU-Util  Compute M. |\r\n",
      "|                               |                      |               MIG M. |\r\n",
      "|===============================+======================+======================|\r\n",
      "|   0  Tesla V100-PCIE...  On   | 00000000:D8:00.0 Off |                  Off |\r\n",
      "| N/A   28C    P0    36W / 250W |  21211MiB / 32768MiB |      0%      Default |\r\n",
      "|                               |                      |                  N/A |\r\n",
      "+-------------------------------+----------------------+----------------------+\r\n",
      "                                                                               \r\n",
      "+-----------------------------------------------------------------------------+\r\n",
      "| Processes:                                                                  |\r\n",
      "|  GPU   GI   CI        PID   Type   Process name                  GPU Memory |\r\n",
      "|        ID   ID                                                   Usage      |\r\n",
      "|=============================================================================|\r\n",
      "|    0   N/A  N/A     52315      C   ...a/envs/therapy/bin/python    21207MiB |\r\n",
      "+-----------------------------------------------------------------------------+\r\n"
     ]
    }
   ],
   "source": [
    "from transformers import AutoModelForCausalLM, AutoTokenizer, AutoModelWithLMHead\n",
    "import torch"
   ]
  },
  {
   "cell_type": "markdown",
   "metadata": {},
   "source": [
    "The next cell is the test for the smaller model, trained on DialoGPT-small"
   ]
  },
  {
   "cell_type": "code",
   "execution_count": 2,
   "metadata": {},
   "outputs": [
    {
     "name": "stdout",
     "output_type": "stream",
     "text": [
      ">> User:I'm really struggling with my anxious feelings.\n",
      "DialoGPT: Yeah.\n",
      ">> User:Can you support me through these difficult emotions?\n",
      "DialoGPT: I can, yeah. I can support-- I can support you through this.\n",
      ">> User:Do you have suggestions for how to manage my anxiety?\n",
      "DialoGPT: I can try each day to count.\n",
      ">> User:What should I do to feel better about my choice?\n",
      "DialoGPT: I can try each day to count.\n",
      ">> User:What do you count?\n",
      "DialoGPT: I can try that every day.\n",
      ">> User:Why do you do that?\n",
      "DialoGPT: I try to stop every day.\n",
      ">> User:What are you stopping?\n",
      "DialoGPT: I don't know. I-I'm-I'm getting sick of being overweight.\n"
     ]
    }
   ],
   "source": [
    "\n",
    "tokenizer = AutoTokenizer.from_pretrained('DialoGPT-small')\n",
    "model = AutoModelForCausalLM.from_pretrained('small_model')  ##currently, output_2 is the best mdoel\n",
    "\n",
    "# Let's chat for 5 lines\n",
    "for step in range(5):\n",
    "    # encode the new user input, add the eos_token and return a tensor in Pytorch\n",
    "    new_user_input_ids = tokenizer.encode(input(\">> User:\") + tokenizer.eos_token, return_tensors='pt')\n",
    "    # print(new_user_input_ids)\n",
    "\n",
    "    # append the new user input tokens to the chat history\n",
    "    bot_input_ids = torch.cat([chat_history_ids, new_user_input_ids], dim=-1) if step > 0 else new_user_input_ids\n",
    "\n",
    "    # generated a response while limiting the total chat history to 1000 tokens, \n",
    "    chat_history_ids = model.generate(\n",
    "        bot_input_ids, max_length=1000,\n",
    "        pad_token_id=tokenizer.eos_token_id,\n",
    "        top_p=0.5, top_k = 50\n",
    "    )\n",
    "    \n",
    "    # pretty print last ouput tokens from bot\n",
    "    print(\"DialoGPT: {}\".format(tokenizer.decode(chat_history_ids[:, bot_input_ids.shape[-1]:][0], skip_special_tokens=True)))\n"
   ]
  },
  {
   "cell_type": "code",
   "execution_count": null,
   "metadata": {},
   "outputs": [],
   "source": [
    "The next cell is the test for the larger model, trained on DialoGPT-medium"
   ]
  },
  {
   "cell_type": "code",
   "execution_count": 12,
   "metadata": {},
   "outputs": [
    {
     "name": "stdout",
     "output_type": "stream",
     "text": [
      ">> User:I'm really struggling in my life right now.\n",
      "DialoGPT: What's happening in your life right now?\n",
      ">> User:Things do not feel good. I am lonely and lost.\n",
      "DialoGPT: What are some of your positive feelings about being here today?\n",
      ">> User:I really like the smell of my room! And it's a beautiful day.\n",
      "DialoGPT: Mm-hmm.\n",
      ">> User:I also like my dog, a lot.\n",
      "DialoGPT: Okay. What kind of dog do you have?\n",
      ">> User:She's a golden retriever!\n",
      "DialoGPT: !!!!!!!!!!!!!!!!!!!!!!!!!!!!!!!!!!!!!!!!!!!!!!!!!!!!!!!!!!!!!!!!!!!!!!!!!!!!!!!!!!!!!!!!!!!!!!!!!!!!!!!!!!!!!!!!!!!!!!!!!!!!!!!!!!!!!!!!!!!!!!!!!!!!!!!!!!!!!!!!!!!!!!!!!!!!!!!!!!!!!!!!!!!!!!!!!!!!!!!!!!!!!!!!!!!!!!!!!!!!!!!!!!!!!!!!!!!!!!!!!!!!!!!!!!!!!!!!!!!!!!!!!!!!!!!!!!!!!!!!!!!!!!!!!!!!!!!!!!!!!!!!!!!!!!!!!!!!!!!!!!!!!!!!!!!!!!!!!!!!!!!!!!!!!!!!!!!!!!!!!!!!!!!!!!!!!!!!!!!!!!!!!!!!!!!!!!!!!!!!!!!!!!!!!!!!!!!!!!!!!!!!!!!!!!!!!!!!!!!!!!!!!!!!!!!!!!!!!!!!!!!!!!!!!!!!!!!!!!!!!!!!!!!!!!!!!!!!!!!!!!!!!!!!!!!!!!!!!!!!!!!!!!!!!!!!!!!!!!!!!!!!!!!!!!!!!!!!!!!!!!!!!!!!!!!!!!!!!!!!!!!!!!!!!!!!!!!!!!!!!!!!!!!!!!!!!!!!!!!!!!!!!!!!!!!!!!!!!!!!!!!!!!!!!!!!!!!!!!!!!!!!!!!!!!!!!!!!!!!!!!!!!!!!!!!!!!!!!!!!!!!!!!!!!!!!!!!!!!!!!!!!!!!!!!!!!!!!!!!!!!!!!!!!!!!!!!!!!!!!!!!!!!!!!!!!!!!!!!!!!!!!!!!!!!!!!!!!!!!!!!!!!!!!!!!!!!!!!!!!!!!!!!!!!!!!!!!!!!!!!!!!!!!!!!!!!!!!!!!!!!!!!!!!!!!!!!!!!!!!!!!!!!!!!!!!!!!!!!!!\n"
     ]
    }
   ],
   "source": [
    "\n",
    "tokenizer = AutoTokenizer.from_pretrained('DialoGPT-medium')\n",
    "model = AutoModelForCausalLM.from_pretrained('large_model') #LMHead works better on Large??\n",
    "\n",
    "# Let's chat for 5 lines\n",
    "for step in range(5):\n",
    "    # encode the new user input, add the eos_token and return a tensor in Pytorch\n",
    "    new_user_input_ids = tokenizer.encode(input(\">> User:\") + tokenizer.eos_token, return_tensors='pt')\n",
    "    # print(new_user_input_ids)\n",
    "\n",
    "    # append the new user input tokens to the chat history\n",
    "    bot_input_ids = torch.cat([chat_history_ids, new_user_input_ids], dim=-1) if step > 0 else new_user_input_ids\n",
    "\n",
    "    # generated a response while limiting the total chat history to 1000 tokens, \n",
    "    chat_history_ids = model.generate(\n",
    "        bot_input_ids, max_length=1000,\n",
    "        pad_token_id=tokenizer.eos_token_id,\n",
    "        top_p=0.96, top_k=50\n",
    "    )\n",
    "    \n",
    "    # pretty print last ouput tokens from bot\n",
    "    print(\"DialoGPT: {}\".format(tokenizer.decode(chat_history_ids[:, bot_input_ids.shape[-1]:][0], skip_special_tokens=True)))\n"
   ]
  },
  {
   "cell_type": "markdown",
   "metadata": {},
   "source": [
    "# Many examples below:"
   ]
  },
  {
   "cell_type": "raw",
   "metadata": {},
   "source": [
    ">> User:Hey! I'm 21 and a college student. I'm having some difficulties managing my work and feelings.\n",
    "DialoGPT: Okay. What sort of difficulties are you having?\n",
    ">> User:I need advice for how to choose a career.\n",
    "DialoGPT: Okay. What sort of career do you have?\n",
    ">> User:I'm a student now, but I can't decide between being a doctor and being a lawyer, and this causes me a lot of anxiety.\n",
    "DialoGPT: Okay. What do you like about law school?\n",
    ">> User:I like the idea of reading a lot of big books.\n",
    "DialoGPT: Oh, neat. What do you like about reading?\n",
    ">> User:I really like to escape my feelings.\n",
    "DialoGPT: !!!!!!!!!!!!!!!!!!!!!!!!!!!!!!!!!!!!!!!!!!!!!!!!!!!!!!!!!!!!!!!!!!!!!!!!!!!!!!!!!!!!!!!!!!!!!!!!!!!!!!!!!!!!!!!!!!!!!!!!!!!!!!!!!!!!!!!!!!!!!!!!!!!!!!!!!!!!!!!!!!!!!!!!!!!!!!!!!!!!!!!!!!!!!!!!!!!!!!!!!!!!!!!!!!!!!!!!!!!!!!!!!!!!!!!!!!!!!!!!!!!!!!!!!!!!!!!!!!!!!!!!!!!!!!!!!!!!!!!!!!!!!!!!!!!!!!!!!!!!!!!!!!!!!!!!!!!!!!!!!!!!!!!!!!!!!!!!!!!!!!!!!!!!!!!!!!!!!!!!!!!!!!!!!!!!!!!!!!!!!!!!!!!!!!!!!!!!!!!!!!!!!!!!!!!!!!!!!!!!!!!!!!!!!!!!!!!!!!!!!!!!!!!!!!!!!!!!!!!!!!!!!!!!!!!!!!!!!!!!!!!!!!!!!!!!!!!!!!!!!!!!!!!!!!!!!!!!!!!!!!!!!!!!!!!!!!!!!!!!!!!!!!!!!!!!!!!!!!!!!!!!!!!!!!!!!!!!!!!!!!!!!!!!!!!!!!!!!!!!!!!!!!!!!!!!!!!!!!!!!!!!!!!!!!!!!!!!!!!!!!!!!!!!!!!!!!!!!!!!!!!!!!!!!!!!!!!!!!!!!!!!!!!!!!!!!!!!!!!!!!!!!!!!!!!!!!!!!!!!!!!!!!!!!!!!!!!!!!!!!!!!!!!!!!!!!!!!!!!!!!!!!!!!!!!!!!!!!!!!!!!!!!!!!!!!!!!!!!!!!!!!!!!!!!!!!!!!!!!!!!!!!!!!!!!!!!!!!!!!!!!!!!!!!!!!!!!!!!!!!!!!!!!!!!\n"
   ]
  },
  {
   "cell_type": "raw",
   "metadata": {},
   "source": [
    ">> User:Hi! I'm struggling to manage my emotions around what choice of career to have.\n",
    "DialoGPT: Mm-hmm. Tell me more about that. What made you decide to become a psychiatrist?\n",
    ">> User:I wanted to help people. But I'm not sure that's satisfying for me anymore.\n",
    "DialoGPT: You feel like it's taking too much away from your family. You're worried about them and you're letting your emotions get in the way of your-\n",
    ">> User:Well, not quite. My family is fine. It's just that I don't feel like I have a sense of purpose anymore.\n",
    "DialoGPT: Uh, what is it that brings you to fill out this form? Is it because you feel isolated or, you know, your friends are no more or no less important to you than you, that you want to make some changes or move towards something more meaningful, or do you have other ideas of what it might be that would be most useful for you as a-a new, healthy contributor to your life? Can you expand on that a little bit more? This is really broad and not narrow down to just one thing, it sounds like lots of things are on the mind of many people who are struggling with this. Um, is there alcohol in your diet? Have you ever been in a situation where you felt pressured to drink alcohol, and what have you done in order to change your drinking habits? For example, have there been any times when you've tried to use alcohol to relieve stress or-or cause a stroke or a heart attack? Any other ways you can think of reducing your alcohol use? Thanks for coming in today. I really appreciate you talking with me. Thank you for being so open about your substance use. We really care about you and your goals for yourself. And I wish you the best of luck with your sobriety. lt 3\n",
    ">> User:I don't drink alcohol at all!\n",
    "DialoGPT: That's a great reason not to quit drinking. That's really a good reason to not drink. There are a lot of other things that could be on your mind right now that are more important than your health. Alcohol is just a way to relax and fuel your body. So, I'd like to share some information with you. The reason for your visit today was to talk about some medications that can help you curb the withdrawal symptoms associated with alcohol withdrawal. They're not necessarily the same thing as the Narcan but they can be helpful in helping you relax, increase your mood, feel better about yourself and maybe even give you some ideas about how to take care of stress and-to do some different approaches to cope with stress in different ways. How were you able to respond to get to start using alcohol? What were some of these medications? Where did you take them? Which one? Could you tell me some recommendations for some suggestions for where to try? "
   ]
  },
  {
   "cell_type": "raw",
   "metadata": {},
   "source": [
    ">> User:I'm really struggling with my anxious feelings.\n",
    "DialoGPT: Mm-hmm.\n",
    ">> User:What do you think I should do to feel better?\n",
    "DialoGPT: Well, I think you should try to sit down and write down what you're thinking. That way, if you have time in the day, you can think about what you're thinking and it'll make it easier for you to think about what you're doing.\n",
    ">> User:Thank you, that's a very helpful suggestion. I am also confused about how to manage my relationship.\n",
    "DialoGPT: Well, I know you've been struggling with your drinking for years. I know that you've been seeing dr. Fields about this and it's getting in the way of your life, and I'm wondering if you have any ideas as to how you might manage your drinking.\n",
    ">> User:I don't have a drinking problem at all. I need help to manage my anxiety.\n",
    "DialoGPT: Sure. I can share some information with you. The National Guidelines recommend that women have no more than seven drinks of alcohol per week to-to stay at that low risk level, to avoid the healthcare concerns that we spoke of earlier.\n",
    ">> User:I am concerned about whether to stay in my relationship. I love my partner, but she is difficult sometimes.\n",
    "DialoGPT: !!!!!!!!!!!!!!!!!!!!!!!!!!!!!!!!!!!!!!!!!!!!!!!!!!!!!!!!!!!!!!!!!!!!!!!!!!!!!!!!!!!!!!!!!!!!!!!!!!!!!!!!!!!!!!!!!!!!!!!!!!!!!!!!!!!!!!!!!!!!!!!!!!!!!!!!!!!!!!!!!!!!!!!!!!!!!!!!!!!!!!!!!!!!!!!!!!!!!!!!!!!!!!!!!!!!!!!!!!!!!!!!!!!!!!!!!!!!!!!!!!!!!!!!!!!!!!!!!!!!!!!!!!!!!!!!!!!!!!!!!!!!!!!!!!!!!!!!!!!!!!!!!!!!!!!!!!!!!!!!!!!!!!!!!!!!!!!!!!!!!!!!!!!!!!!!!!!!!!!!!!!!!!!!!!!!!!!!!!!!!!!!!!!!!!!!!!!!!!!!!!!!!!!!!!!!!!!!!!!!!!!!!!!!!!!!!!!!!!!!!!!!!!!!!!!!!!!!!!!!!!!!!!!!!!!!!!!!!!!!!!!!!!!!!!!!!!!!!!!!!!!!!!!!!!!!!!!!!!!!!!!!!!!!!!!!!!!!!!!!!!!!!!!!!!!!!!!!!!!!!!!!!!!!!!!!!!!!!!!!!!!!!!!!!!!!!!!!!!!!!!!!!!!!!!!!!!!!!!!!!!!!!!!!!!!!!!!!!!!!!!!!!!!!!!!!!!!!!!!!!!!!!!!!!!!!!!!!!!!!!!!!!!!!!!!!!!!!!!!!!!!!!!!!!!!!!!!!!!!!!!!!!!!!!!!!!!!!!!!!!!!!!!!!!\n",
    ">> User:I am really struggling with my drinking.\n"
   ]
  },
  {
   "cell_type": "raw",
   "metadata": {},
   "source": [
    ">> User:I'm really struggling with my alcohol use.\n",
    "DialoGPT: Okay. So, I'm hearing that you've noticed that your drinking has increased a little since you got divorced and moved to Portland, and that it's becoming more of a problem in your life.\n",
    ">> User:I'm drinking almost every day, and I want to stop. I just don't know how.\n",
    "DialoGPT: Well, I can tell you right now, Dr. Fields, drinking is not an effective way to stop drinking. Alcohol use is an excellent way to decrease the risk of injury and to help build muscle mass, which is what you want to achieve with your goals.\n",
    ">> User:I'm confused. Are you telling me to drink?\n",
    "DialoGPT: Well, you know, the way things are at the moment, um, you know, if you stop drinking, then your risk of getting cancer or heart disease will go down, and if you keep drinking, then your risk of getting cancer or heart disease will go up. So, you know, what you're trying to do is to cut back, but at the same time, you know, it's not really what I want to do.\n",
    ">> User:I just really like beer, ok?\n",
    "DialoGPT: Sure. Sure. Well, I just wanted to ask you how your drinking has changed over time. I'm curious.\n",
    ">> User:It's gotten much worse lately.\n",
    "DialoGPT: !!!!!!!!!!!!!!!!!!!!!!!!!!!!!!!!!!!!!!!!!!!!!!!!!!!!!!!!!!!!!!!!!!!!!!!!!!!!!!!!!!!!!!!!!!!!!!!!!!!!!!!!!!!!!!!!!!!!!!!!!!!!!!!!!!!!!!!!!!!!!!!!!!!!!!!!!!!!!!!!!!!!!!!!!!!!!!!!!!!!!!!!!!!!!!!!!!!!!!!!!!!!!!!!!!!!!!!!!!!!!!!!!!!!!!!!!!!!!!!!!!!!!!!!!!!!!!!!!!!!!!!!!!!!!!!!!!!!!!!!!!!!!!!!!!!!!!!!!!!!!!!!!!!!!!!!!!!!!!!!!!!!!!!!!!!!!!!!!!!!!!!!!!!!!!!!!!!!!!!!!!!!!!!!!!!!!!!!!!!!!!!!!!!!!!!!!!!!!!!!!!!!!!!!!!!!!!!!!!!!!!!!!!!!!!!!!!!!!!!!!!!!!!!!!!!!!!!!!!!!!!!!!!!!!!!!!!!!!!!!!!!!!!!!!!!!!!!!!!!!!!!!!!!!!!!!!!!!!!!!!!!!!!!!!!!!!!!!!!!!!!!!!!!!!!!!!!!!!!!!!!!!!!!!!!!!!!!!!!!!!!!!!!!!!!!!!!!!!!!!!!!!!!!!!!!!!!!!!!!!!!!!!!!!!!!!!!!!!!!!!!!!!!!!!!!!!!!!!!!!!!!!!!!!!!!!!!!!!!!!!!!!!!!!!!!!!!!!!!!!!!!!!!!!!!!!!!!!!!!!!!!!!!!!!\n",
    ">> User:That's not very helpful."
   ]
  },
  {
   "cell_type": "raw",
   "metadata": {},
   "source": [
    ">> User:I'm struggling with my nicotine use.\n",
    "DialoGPT: Okay. So, I'm hearing that your use has increased a little bit over time. And it sounds like you've noticed some withdrawal symptoms when you quit smoking.\n",
    ">> User:That's correct. The withdrawal symptoms are hard/\n",
    "DialoGPT: Mm-hmm.\n",
    ">> User:What should I do? I'm scared.\n",
    "DialoGPT: Well, you know, I can- I can give you some tips on, uh, how to manage your nicotine use. I bet the NHS have got you hooked up.\n",
    ">> User:What tips do you have? I could really use some.\n",
    "DialoGPT: Well, uh, if you wanna talk about quitting or switching to vaping, that's something I can definitely talk to you about.\n",
    ">> User:Do you think it's a good idea to switch to vaping?\n"
   ]
  },
  {
   "cell_type": "raw",
   "metadata": {},
   "source": [
    ">> User:I'm really struggling with my nicotine use.\n",
    "DialoGPT: Okay. So I'm hearing that your use has increased a little bit over time. And that you feel that your symptoms are worse when you use nicotine replacement.\n",
    ">> User:I haven't tried nicotine replacement. What's that?\n",
    "DialoGPT: It's a patch. It's basically a gum that you snort. It reduces cravings, withdrawal symptoms. It's also very helpful for people with anxiety.\n",
    ">> User:Do you think I should try the patch? My anxiety is bad.\n",
    "DialoGPT: Yes. The patch will help you tremendously. It will make it so that you don't have to use the emergency room when you have a panic attack and you can use the Wi- when you have a panic attack.\n",
    ">> User:How do I change my behavior around cigarettes?\n",
    "DialoGPT: How do I change my behavior around cigarettes?\n",
    ">> User:That's what I'm asking you?\n"
   ]
  },
  {
   "cell_type": "raw",
   "metadata": {},
   "source": [
    ">> User:I'm really struggling with anxiety around alcohol.\n",
    "DialoGPT: Okay. So, I'm hearing that there are some benefits to alcohol, and that you feel that you can use it to relax and unwind.\n",
    ">> User:Not quite. Alcohol use is destroying my life.\n",
    "DialoGPT: Alcohol is a depressant.\n",
    ">> User:I'm depressed.\n",
    "DialoGPT: So, tell me a little bit more about your alcohol use.\n",
    ">> User:I use it to cope with the bad things in my life.\n",
    "DialoGPT: Mm-hmm.\n"
   ]
  },
  {
   "cell_type": "raw",
   "metadata": {},
   "source": [
    ">> User:I'm really struggling with drinking too much.\n",
    "DialoGPT: Okay. So, I'm hearing that you've noticed that the drinking has increased a little bit over time.\n",
    ">> User:More than a little bit! I'm an alcoholic.\n",
    "DialoGPT: Mm-hmm.\n",
    ">> User:What do I do? I'm so lost/\n",
    "DialoGPT: Okay.\n",
    ">> User:I really need your help.\n"
   ]
  },
  {
   "cell_type": "raw",
   "metadata": {},
   "source": [
    ">> User:I really need emotional support. Can you help me?\n",
    "DialoGPT: Sure. I can listen. I can even talk to you about it. I can even give you some tips about how to do it.\n",
    ">> User:My relationships are in a really bad place, and I don't know where to turn.\n",
    "DialoGPT: Well, I can give you some tips about turning your life around, and you can give me some information on how to do it.\n",
    ">> User:How do I start?\n",
    "DialoGPT: Well, you need to have confidence in yourself.\n",
    ">> User:I understand that, but how can I have confidence if I hate myself?\n",
    "DialoGPT: Well, what can you tell me about yourself?\n",
    ">> User:I am really unhappy. I'm smart, but I'm sad.\n",
    "DialoGPT: !!!!!!!!!!!!!!!!!!!!!!!!!!!!!!!!!!!!!!!!!!!!!!!!!!!!!!!!!!!!!!!!!!!!!!!!!!!!!!!!!!!!!!!!!!!!!!!!!!!!!!!!!!!!!!!!!!!!!!!!!!!!!!!!!!!!!!!!!!!!!!!!!!!!!!!!!!!!!!!!!!!!!!!!!!!!!!!!!!!!!!!!!!!!!!!!!!!!!!!!!!!!!!!!!!!!!!!!!!!!!!!!!!!!!!!!!!!!!!!!!!!!!!!!!!!!!!!!!!!!!!!!!!!!!!!!!!!!!!!!!!!!!!!!!!!!!!!!!!!!!!!!!!!!!!!!!!!!!!!!!!!!!!!!!!!!!!!!!!!!!!!!!!!!!!!!!!!!!!!!!!!!!!!!!!!!!!!!!!!!!!!!!!!!!!!!!!!!!!!!!!!!!!!!!!!!!!!!!!!!!!!!!!!!!!!!!!!!!!!!!!!!!!!!!!!!!!!!!!!!!!!!!!!!!!!!!!!!!!!!!!!!!!!!!!!!!!!!!!!!!!!!!!!!!!!!!!!!!!!!!!!!!!!!!!!!!!!!!!!!!!!!!!!!!!!!!!!!!!!!!!!!!!!!!!!!!!!!!!!!!!!!!!!!!!!!!!!!!!!!!!!!!!!!!!!!!!!!!!!!!!!!!!!!!!!!!!!!!!!!!!!!!!!!!!!!!!!!!!!!!!!!!!!!!!!!!!!!!!!!!!!!!!!!!!!!!!!!!!!!!!!!!!!!!!!!!!!!!!!!!!!!!!!!!!!!!!!!!!!!!!!!!!!!!!!!!!!!!!!!!!!!!!!!!!!!!!!!!!!!!!!!!!!!!!!!!!!!!!!!!!!!!!!!!!!!!!!!!!!!!!!!!!!!!!!!!!!!!!!!!!!!!!!!!!!!!\n"
   ]
  },
  {
   "cell_type": "raw",
   "metadata": {},
   "source": [
    ">> User:I'm really unhappy with my wife and my career. \n",
    "DialoGPT: What do you think would make it better for your wife and your career?\n",
    ">> User:I wish that my wife understood me. I wish my career wasn't so boring.\n",
    "DialoGPT: What do you think would make it better for your wife and your career?\n",
    ">> User:I wish I was better, too. \n",
    "DialoGPT: What do you think would make it better for your wife and your career?\n",
    ">> User:If I was smarter and more attractive, things would be good. But I suck.\n",
    "DialoGPT: What would make it better for your wife and your career?\n",
    ">> User:Please help me! Stop repeating yourself.\n"
   ]
  },
  {
   "cell_type": "raw",
   "metadata": {},
   "source": [
    ">> User:I'm really struggling in my life right now.\n",
    "DialoGPT: What's happening in your life right now?\n",
    ">> User:Things do not feel good. I am lonely and lost.\n",
    "DialoGPT: What are some of your positive feelings about being here today?\n",
    ">> User:I really like the smell of my room! And it's a beautiful day.\n",
    "DialoGPT: Mm-hmm.\n",
    ">> User:I also like my dog, a lot.\n",
    "DialoGPT: Okay. What kind of dog do you have?\n",
    ">> User:She's a golden retriever!\n"
   ]
  }
 ],
 "metadata": {
  "kernelspec": {
   "display_name": "Python [conda env:.conda-therapy]",
   "language": "python",
   "name": "conda-env-.conda-therapy-py"
  },
  "language_info": {
   "codemirror_mode": {
    "name": "ipython",
    "version": 3
   },
   "file_extension": ".py",
   "mimetype": "text/x-python",
   "name": "python",
   "nbconvert_exporter": "python",
   "pygments_lexer": "ipython3",
   "version": "3.10.4"
  },
  "latex_envs": {
   "LaTeX_envs_menu_present": true,
   "autoclose": false,
   "autocomplete": true,
   "bibliofile": "biblio.bib",
   "cite_by": "apalike",
   "current_citInitial": 1,
   "eqLabelWithNumbers": true,
   "eqNumInitial": 1,
   "hotkeys": {
    "equation": "Ctrl-E",
    "itemize": "Ctrl-I"
   },
   "labels_anchors": false,
   "latex_user_defs": false,
   "report_style_numbering": false,
   "user_envs_cfg": false
  },
  "toc": {
   "base_numbering": 1,
   "nav_menu": {},
   "number_sections": true,
   "sideBar": true,
   "skip_h1_title": false,
   "title_cell": "Table of Contents",
   "title_sidebar": "Contents",
   "toc_cell": false,
   "toc_position": {},
   "toc_section_display": true,
   "toc_window_display": false
  },
  "varInspector": {
   "cols": {
    "lenName": 16,
    "lenType": 16,
    "lenVar": 40
   },
   "kernels_config": {
    "python": {
     "delete_cmd_postfix": "",
     "delete_cmd_prefix": "del ",
     "library": "var_list.py",
     "varRefreshCmd": "print(var_dic_list())"
    },
    "r": {
     "delete_cmd_postfix": ") ",
     "delete_cmd_prefix": "rm(",
     "library": "var_list.r",
     "varRefreshCmd": "cat(var_dic_list()) "
    }
   },
   "types_to_exclude": [
    "module",
    "function",
    "builtin_function_or_method",
    "instance",
    "_Feature"
   ],
   "window_display": false
  }
 },
 "nbformat": 4,
 "nbformat_minor": 4
}
